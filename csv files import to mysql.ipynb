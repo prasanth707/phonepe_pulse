{
 "cells": [
  {
   "cell_type": "code",
   "execution_count": 46,
   "id": "b4727016",
   "metadata": {},
   "outputs": [],
   "source": [
    "import pandas as pd\n"
   ]
  },
  {
   "cell_type": "code",
   "execution_count": 47,
   "id": "81bf48eb",
   "metadata": {},
   "outputs": [],
   "source": [
    "agg_tran_state = pd.read_csv('agg_tran_state.csv')\n",
    "agg_tran_user =pd.read_csv('agg_tran_user.csv')\n",
    "map_tran_state = pd.read_csv('map_tran_state.csv')\n",
    "map_tran_user = pd.read_csv('map_tran_user.csv')"
   ]
  },
  {
   "cell_type": "code",
   "execution_count": 48,
   "id": "a1a4acf1",
   "metadata": {},
   "outputs": [
    {
     "data": {
      "text/html": [
       "<div>\n",
       "<style scoped>\n",
       "    .dataframe tbody tr th:only-of-type {\n",
       "        vertical-align: middle;\n",
       "    }\n",
       "\n",
       "    .dataframe tbody tr th {\n",
       "        vertical-align: top;\n",
       "    }\n",
       "\n",
       "    .dataframe thead th {\n",
       "        text-align: right;\n",
       "    }\n",
       "</style>\n",
       "<table border=\"1\" class=\"dataframe\">\n",
       "  <thead>\n",
       "    <tr style=\"text-align: right;\">\n",
       "      <th></th>\n",
       "      <th>State</th>\n",
       "      <th>Year</th>\n",
       "      <th>Quater</th>\n",
       "      <th>District</th>\n",
       "      <th>RegisteredUsers</th>\n",
       "      <th>AppOpens</th>\n",
       "    </tr>\n",
       "  </thead>\n",
       "  <tbody>\n",
       "    <tr>\n",
       "      <th>0</th>\n",
       "      <td>rajasthan</td>\n",
       "      <td>2019</td>\n",
       "      <td>Q2</td>\n",
       "      <td>pali district</td>\n",
       "      <td>187542</td>\n",
       "      <td>930088</td>\n",
       "    </tr>\n",
       "    <tr>\n",
       "      <th>1</th>\n",
       "      <td>rajasthan</td>\n",
       "      <td>2019</td>\n",
       "      <td>Q2</td>\n",
       "      <td>ganganagar district</td>\n",
       "      <td>235568</td>\n",
       "      <td>1551938</td>\n",
       "    </tr>\n",
       "    <tr>\n",
       "      <th>2</th>\n",
       "      <td>rajasthan</td>\n",
       "      <td>2019</td>\n",
       "      <td>Q2</td>\n",
       "      <td>churu district</td>\n",
       "      <td>195534</td>\n",
       "      <td>1006339</td>\n",
       "    </tr>\n",
       "    <tr>\n",
       "      <th>3</th>\n",
       "      <td>rajasthan</td>\n",
       "      <td>2019</td>\n",
       "      <td>Q2</td>\n",
       "      <td>jaipur district</td>\n",
       "      <td>2290462</td>\n",
       "      <td>22271457</td>\n",
       "    </tr>\n",
       "    <tr>\n",
       "      <th>4</th>\n",
       "      <td>rajasthan</td>\n",
       "      <td>2019</td>\n",
       "      <td>Q2</td>\n",
       "      <td>baran district</td>\n",
       "      <td>95427</td>\n",
       "      <td>564207</td>\n",
       "    </tr>\n",
       "    <tr>\n",
       "      <th>...</th>\n",
       "      <td>...</td>\n",
       "      <td>...</td>\n",
       "      <td>...</td>\n",
       "      <td>...</td>\n",
       "      <td>...</td>\n",
       "      <td>...</td>\n",
       "    </tr>\n",
       "    <tr>\n",
       "      <th>14635</th>\n",
       "      <td>arunachal-pradesh</td>\n",
       "      <td>2021</td>\n",
       "      <td>Q3</td>\n",
       "      <td>pakke kessang district</td>\n",
       "      <td>770</td>\n",
       "      <td>213423</td>\n",
       "    </tr>\n",
       "    <tr>\n",
       "      <th>14636</th>\n",
       "      <td>arunachal-pradesh</td>\n",
       "      <td>2021</td>\n",
       "      <td>Q3</td>\n",
       "      <td>east siang district</td>\n",
       "      <td>22538</td>\n",
       "      <td>1086775</td>\n",
       "    </tr>\n",
       "    <tr>\n",
       "      <th>14637</th>\n",
       "      <td>arunachal-pradesh</td>\n",
       "      <td>2021</td>\n",
       "      <td>Q3</td>\n",
       "      <td>upper subansiri district</td>\n",
       "      <td>7652</td>\n",
       "      <td>375423</td>\n",
       "    </tr>\n",
       "    <tr>\n",
       "      <th>14638</th>\n",
       "      <td>arunachal-pradesh</td>\n",
       "      <td>2021</td>\n",
       "      <td>Q3</td>\n",
       "      <td>tawang district</td>\n",
       "      <td>13650</td>\n",
       "      <td>1355010</td>\n",
       "    </tr>\n",
       "    <tr>\n",
       "      <th>14639</th>\n",
       "      <td>arunachal-pradesh</td>\n",
       "      <td>2021</td>\n",
       "      <td>Q3</td>\n",
       "      <td>namsai district</td>\n",
       "      <td>12140</td>\n",
       "      <td>674435</td>\n",
       "    </tr>\n",
       "  </tbody>\n",
       "</table>\n",
       "<p>14640 rows × 6 columns</p>\n",
       "</div>"
      ],
      "text/plain": [
       "                   State  Year Quater                  District  \\\n",
       "0              rajasthan  2019     Q2             pali district   \n",
       "1              rajasthan  2019     Q2       ganganagar district   \n",
       "2              rajasthan  2019     Q2            churu district   \n",
       "3              rajasthan  2019     Q2           jaipur district   \n",
       "4              rajasthan  2019     Q2            baran district   \n",
       "...                  ...   ...    ...                       ...   \n",
       "14635  arunachal-pradesh  2021     Q3    pakke kessang district   \n",
       "14636  arunachal-pradesh  2021     Q3       east siang district   \n",
       "14637  arunachal-pradesh  2021     Q3  upper subansiri district   \n",
       "14638  arunachal-pradesh  2021     Q3           tawang district   \n",
       "14639  arunachal-pradesh  2021     Q3           namsai district   \n",
       "\n",
       "       RegisteredUsers  AppOpens  \n",
       "0               187542    930088  \n",
       "1               235568   1551938  \n",
       "2               195534   1006339  \n",
       "3              2290462  22271457  \n",
       "4                95427    564207  \n",
       "...                ...       ...  \n",
       "14635              770    213423  \n",
       "14636            22538   1086775  \n",
       "14637             7652    375423  \n",
       "14638            13650   1355010  \n",
       "14639            12140    674435  \n",
       "\n",
       "[14640 rows x 6 columns]"
      ]
     },
     "execution_count": 48,
     "metadata": {},
     "output_type": "execute_result"
    }
   ],
   "source": [
    "map_tran_user"
   ]
  },
  {
   "cell_type": "code",
   "execution_count": 49,
   "id": "2313e54e",
   "metadata": {},
   "outputs": [
    {
     "name": "stdout",
     "output_type": "stream",
     "text": [
      "Requirement already satisfied: mysql-connector-python in c:\\users\\prasa\\anaconda3\\lib\\site-packages (8.0.33)\n",
      "Requirement already satisfied: protobuf<=3.20.3,>=3.11.0 in c:\\users\\prasa\\anaconda3\\lib\\site-packages (from mysql-connector-python) (3.20.3)\n",
      "Note: you may need to restart the kernel to use updated packages.\n"
     ]
    }
   ],
   "source": [
    "pip install mysql-connector-python"
   ]
  },
  {
   "cell_type": "code",
   "execution_count": 50,
   "id": "36888a7f",
   "metadata": {},
   "outputs": [
    {
     "name": "stdout",
     "output_type": "stream",
     "text": [
      "Error while connecting to MySQL 1007 (HY000): Can't create database 'phonepe_pulse'; database exists\n"
     ]
    }
   ],
   "source": [
    "import mysql.connector as msql\n",
    "from mysql.connector import Error\n",
    "\n",
    "try:\n",
    "    conn = msql.connect(host='localhost', user='root',\n",
    "                        password='1234')\n",
    "    if conn.is_connected():\n",
    "        cursor = conn.cursor()\n",
    "        cursor.execute(\"CREATE DATABASE Phonepe_Pulse\")\n",
    "        print(\"Phonepe_Pulse database is created\")\n",
    "\n",
    "except Error as e:\n",
    "    print(\"Error while connecting to MySQL\", e)"
   ]
  },
  {
   "cell_type": "code",
   "execution_count": 51,
   "id": "abe2e648",
   "metadata": {},
   "outputs": [
    {
     "data": {
      "text/plain": [
       "State                  object\n",
       "Year                    int64\n",
       "Quater                 object\n",
       "Transaction_type       object\n",
       "Transaction_count       int64\n",
       "Transaction_amount    float64\n",
       "dtype: object"
      ]
     },
     "execution_count": 51,
     "metadata": {},
     "output_type": "execute_result"
    }
   ],
   "source": [
    "agg_tran_state.dtypes"
   ]
  },
  {
   "cell_type": "code",
   "execution_count": 52,
   "id": "ac233a43",
   "metadata": {},
   "outputs": [
    {
     "name": "stdout",
     "output_type": "stream",
     "text": [
      "agg_tran_state table is created successfully\n",
      "agg_tran_state values are inserted successfully\n"
     ]
    }
   ],
   "source": [
    "try:\n",
    "    conn = msql.connect(host='localhost',database='phonepe_pulse',user='root',password='1234')\n",
    "    if conn.is_connected():\n",
    "        cursor = conn.cursor()\n",
    "        cursor.execute(\"SELECT DATABASE();\")\n",
    "        record = cursor.fetchone()\n",
    "        cursor.execute(\"DROP TABLE IF EXISTS agg_tran_state;\")\n",
    "        cursor.execute(\"CREATE TABLE agg_tran_state\\\n",
    "                       (state varchar(100),\\\n",
    "                        year int,\\\n",
    "                        quater varchar(10),\\\n",
    "                        transaction_type varchar(50),\\\n",
    "                        transaction_count int,\\\n",
    "                        transaction_amount float(50,4))\")\n",
    "        print('agg_tran_state table is created successfully')\n",
    "        for i,row in agg_tran_state.iterrows():\n",
    "            sql = \"INSERT INTO phonepe_pulse.agg_tran_state VALUES (%s,%s,%s,%s,%s,%s)\"\n",
    "            cursor.execute(sql, tuple(row))\n",
    "            conn.commit()\n",
    "        print('agg_tran_state values are inserted successfully')\n",
    "except Error as e:\n",
    "    print('Error occurs while connecting mysql',e)"
   ]
  },
  {
   "cell_type": "code",
   "execution_count": 53,
   "id": "f905cff4",
   "metadata": {},
   "outputs": [
    {
     "data": {
      "text/plain": [
       "State                object\n",
       "Year                  int64\n",
       "Quater               object\n",
       "Brand                object\n",
       "Brand_count           int64\n",
       "Brand_percentage    float64\n",
       "dtype: object"
      ]
     },
     "execution_count": 53,
     "metadata": {},
     "output_type": "execute_result"
    }
   ],
   "source": [
    "agg_tran_user.dtypes"
   ]
  },
  {
   "cell_type": "code",
   "execution_count": 54,
   "id": "f7faedb3",
   "metadata": {},
   "outputs": [
    {
     "name": "stdout",
     "output_type": "stream",
     "text": [
      "agg_tran_user table is created successfully\n",
      "agg_tran_user values are inserted successfully\n"
     ]
    }
   ],
   "source": [
    "try:\n",
    "    conn = msql.connect(host='localhost',database='phonepe_pulse',user='root',password='1234')\n",
    "    if conn.is_connected():\n",
    "        cursor = conn.cursor()\n",
    "        cursor.execute(\"SELECT DATABASE();\")\n",
    "        record = cursor.fetchone()\n",
    "        cursor.execute(\"DROP TABLE IF EXISTS agg_tran_user;\")\n",
    "        cursor.execute(\"CREATE TABLE agg_tran_user \\\n",
    "                       (state varchar(100),\\\n",
    "                        year int,\\\n",
    "                        quater varchar(10),\\\n",
    "                        brand varchar(50),\\\n",
    "                        brand_count int,\\\n",
    "                        brand_percentage float(50,4))\")\n",
    "        print('agg_tran_user table is created successfully')\n",
    "        for i,row in agg_tran_user.iterrows():\n",
    "            sql = \"INSERT INTO phonepe_pulse.agg_tran_user VALUES (%s,%s,%s,%s,%s,%s)\"\n",
    "            cursor.execute(sql, tuple(row))\n",
    "            conn.commit()\n",
    "        print('agg_tran_user values are inserted successfully')\n",
    "except Error as e:\n",
    "    print('Error occurs while connecting mysql',e)"
   ]
  },
  {
   "cell_type": "code",
   "execution_count": 55,
   "id": "d5f0d576",
   "metadata": {},
   "outputs": [
    {
     "data": {
      "text/plain": [
       "State                  object\n",
       "Year                    int64\n",
       "Quater                 object\n",
       "District               object\n",
       "Transaction_count       int64\n",
       "Transaction_amount    float64\n",
       "dtype: object"
      ]
     },
     "execution_count": 55,
     "metadata": {},
     "output_type": "execute_result"
    }
   ],
   "source": [
    "map_tran_state.dtypes"
   ]
  },
  {
   "cell_type": "code",
   "execution_count": 56,
   "id": "e0824808",
   "metadata": {},
   "outputs": [
    {
     "name": "stdout",
     "output_type": "stream",
     "text": [
      "map_tran_state table is created successfully\n",
      "map_tran_state values are inserted successfully\n"
     ]
    }
   ],
   "source": [
    "try:\n",
    "    conn = msql.connect(host='localhost',database='phonepe_pulse',user='root',password='1234')\n",
    "    if conn.is_connected():\n",
    "        cursor = conn.cursor()\n",
    "        cursor.execute(\"SELECT DATABASE();\")\n",
    "        record = cursor.fetchone()\n",
    "        cursor.execute(\"DROP TABLE IF EXISTS map_tran_state;\")\n",
    "        cursor.execute(\"CREATE TABLE map_tran_state \\\n",
    "                       (state varchar(100),\\\n",
    "                        year int,\\\n",
    "                        quater varchar(10),\\\n",
    "                        district varchar(50),\\\n",
    "                        transaction_count int,\\\n",
    "                        transaction_amount float(50,4))\")\n",
    "        print('map_tran_state table is created successfully')\n",
    "        for i,row in map_tran_state.iterrows():\n",
    "            sql = \"INSERT INTO phonepe_pulse.map_tran_state VALUES (%s,%s,%s,%s,%s,%s)\"\n",
    "            cursor.execute(sql, tuple(row))\n",
    "            conn.commit()\n",
    "        print('map_tran_state values are inserted successfully')\n",
    "except Error as e:\n",
    "    print('Error occurs while connecting mysql',e)"
   ]
  },
  {
   "cell_type": "code",
   "execution_count": 57,
   "id": "3c62cc3a",
   "metadata": {},
   "outputs": [
    {
     "data": {
      "text/plain": [
       "State              object\n",
       "Year                int64\n",
       "Quater             object\n",
       "District           object\n",
       "RegisteredUsers     int64\n",
       "AppOpens            int64\n",
       "dtype: object"
      ]
     },
     "execution_count": 57,
     "metadata": {},
     "output_type": "execute_result"
    }
   ],
   "source": [
    "map_tran_user.dtypes"
   ]
  },
  {
   "cell_type": "code",
   "execution_count": 58,
   "id": "97a85f85",
   "metadata": {},
   "outputs": [
    {
     "name": "stdout",
     "output_type": "stream",
     "text": [
      "map_tran_user table is created successfully\n",
      "map_tran_user values are inserted successfully\n"
     ]
    }
   ],
   "source": [
    "try:\n",
    "    conn = msql.connect(host='localhost',database='phonepe_pulse',user='root',password='1234')\n",
    "    if conn.is_connected():\n",
    "        cursor = conn.cursor()\n",
    "        cursor.execute(\"SELECT DATABASE();\")\n",
    "        record = cursor.fetchone()\n",
    "        cursor.execute(\"DROP TABLE IF EXISTS map_tran_user;\")\n",
    "        cursor.execute(\"CREATE TABLE map_tran_user \\\n",
    "                       (state varchar(100),\\\n",
    "                        year int,\\\n",
    "                        quater varchar(10),\\\n",
    "                        district varchar(50),\\\n",
    "                        registereduser int,\\\n",
    "                        appopens int)\")\n",
    "        print('map_tran_user table is created successfully')\n",
    "        for i,row in map_tran_user.iterrows():\n",
    "            sql = \"INSERT INTO phonepe_pulse.map_tran_user VALUES (%s,%s,%s,%s,%s,%s)\"\n",
    "            cursor.execute(sql, tuple(row))\n",
    "            conn.commit()\n",
    "        print('map_tran_user values are inserted successfully')\n",
    "except Error as e:\n",
    "    print('Error occurs while connecting mysql',e)"
   ]
  }
 ],
 "metadata": {
  "kernelspec": {
   "display_name": "Python 3 (ipykernel)",
   "language": "python",
   "name": "python3"
  },
  "language_info": {
   "codemirror_mode": {
    "name": "ipython",
    "version": 3
   },
   "file_extension": ".py",
   "mimetype": "text/x-python",
   "name": "python",
   "nbconvert_exporter": "python",
   "pygments_lexer": "ipython3",
   "version": "3.9.13"
  }
 },
 "nbformat": 4,
 "nbformat_minor": 5
}
